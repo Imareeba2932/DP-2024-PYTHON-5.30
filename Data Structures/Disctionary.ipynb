{
 "cells": [
  {
   "cell_type": "code",
   "execution_count": 1,
   "metadata": {},
   "outputs": [
    {
     "name": "stdout",
     "output_type": "stream",
     "text": [
      "{'name': 'John', 'age': 19, 'class': '12th'}\n"
     ]
    }
   ],
   "source": [
    "student = {\n",
    "    'name' : \"John\",\n",
    "    'age' : 19,\n",
    "    'class' : '12th'\n",
    "}\n",
    "print(student)"
   ]
  },
  {
   "cell_type": "markdown",
   "metadata": {},
   "source": [
    "- how to declare it\n",
    "- how to access key and value pairs\n",
    "- how to use loops in dictionary\n",
    "- indexing in dictionary"
   ]
  },
  {
   "cell_type": "code",
   "execution_count": 2,
   "metadata": {},
   "outputs": [
    {
     "name": "stdout",
     "output_type": "stream",
     "text": [
      "{'lucknow': [25, 30, 35], 'delhi': [20, 25, 30], 'mumbai': [30, 35, 40]}\n"
     ]
    }
   ],
   "source": [
    "temp = {\n",
    "    'lucknow' : [25,30,35],\n",
    "    'delhi' : [20,25,30],\n",
    "    'mumbai' : [30,35,40]\n",
    "}\n",
    "print(temp)"
   ]
  },
  {
   "cell_type": "code",
   "execution_count": 3,
   "metadata": {},
   "outputs": [
    {
     "name": "stdout",
     "output_type": "stream",
     "text": [
      "{'name': 'John', 'age': 19, 'course': '12th'}\n"
     ]
    }
   ],
   "source": [
    "info = dict(name = \"John\", age = 19, course = '12th')\n",
    "print(info)"
   ]
  },
  {
   "cell_type": "code",
   "execution_count": 4,
   "metadata": {},
   "outputs": [
    {
     "name": "stdout",
     "output_type": "stream",
     "text": [
      "{'name': 'areeba', 'age': 23, 'course': '13'}\n"
     ]
    }
   ],
   "source": [
    "info2 = dict(name = (input(\"Enter your name : \")), \n",
    "age = int(input(\"Enter your age : \")), \n",
    "course = input(\"Enter your course : \"))\n",
    "print(info2)"
   ]
  },
  {
   "cell_type": "code",
   "execution_count": 5,
   "metadata": {},
   "outputs": [
    {
     "name": "stdout",
     "output_type": "stream",
     "text": [
      "John\n",
      "19\n"
     ]
    }
   ],
   "source": [
    "#1st method to to access the value of a key\n",
    "print(student['name'])\n",
    "print(info['age'])"
   ]
  },
  {
   "cell_type": "code",
   "execution_count": 7,
   "metadata": {},
   "outputs": [
    {
     "name": "stdout",
     "output_type": "stream",
     "text": [
      "John\n",
      "19\n"
     ]
    }
   ],
   "source": [
    "#2nd method to access the value of a key\n",
    "print(student.get('name'))\n",
    "print(info.get('age'))"
   ]
  },
  {
   "cell_type": "code",
   "execution_count": 9,
   "metadata": {},
   "outputs": [
    {
     "name": "stdout",
     "output_type": "stream",
     "text": [
      "{'name': 'John', 'age': 19, 'class': '12th', 'school': 'DPS', 'city': 'Lucknow'}\n"
     ]
    }
   ],
   "source": [
    "#to add items in a dictionary\n",
    "student['school'] = 'DPS'\n",
    "student['city'] = 'Lucknow'\n",
    "print(student)"
   ]
  },
  {
   "cell_type": "code",
   "execution_count": 12,
   "metadata": {},
   "outputs": [
    {
     "name": "stdout",
     "output_type": "stream",
     "text": [
      "dict_keys(['name', 'age', 'class', 'school', 'city'])\n",
      "dict_values(['John', 19, '12th', 'DPS', 'Lucknow'])\n",
      "dict_items([('name', 'John'), ('age', 19), ('class', '12th'), ('school', 'DPS'), ('city', 'Lucknow')])\n"
     ]
    }
   ],
   "source": [
    "print(student.keys())\n",
    "print(student.values())\n",
    "print(student.items())"
   ]
  },
  {
   "cell_type": "code",
   "execution_count": 13,
   "metadata": {},
   "outputs": [
    {
     "name": "stdout",
     "output_type": "stream",
     "text": [
      "name\n",
      "age\n",
      "class\n",
      "school\n",
      "city\n"
     ]
    }
   ],
   "source": [
    "for k in student:\n",
    "    print(k)"
   ]
  },
  {
   "cell_type": "code",
   "execution_count": 15,
   "metadata": {},
   "outputs": [
    {
     "name": "stdout",
     "output_type": "stream",
     "text": [
      "name : John\n",
      "age : 19\n",
      "class : 12th\n",
      "school : DPS\n",
      "city : Lucknow\n"
     ]
    }
   ],
   "source": [
    "for k,v in student.items():\n",
    "    print(f'{k} : {v}')"
   ]
  },
  {
   "cell_type": "code",
   "execution_count": 19,
   "metadata": {},
   "outputs": [
    {
     "name": "stdout",
     "output_type": "stream",
     "text": [
      "{'emp001': {'name': 'John', 'age': 25, 'city': 'Lucknow', 'salary': 25000}, 'emp002': {'name': 'Sam', 'age': 30, 'city': 'Delhi', 'salary': 30000}, 'emp003': {'name': 'Tom', 'age': 35, 'city': 'Mumbai', 'salary': 35000}}\n"
     ]
    }
   ],
   "source": [
    "company = {\n",
    "    'emp001' : {\n",
    "        'name' : 'John',\n",
    "        'age' : 25,\n",
    "        'city' : 'Lucknow',\n",
    "        'salary' : 25000\n",
    "    },\n",
    "    'emp002' : {\n",
    "        'name' : 'Sam',\n",
    "        'age' : 30,\n",
    "        'city' : 'Delhi',\n",
    "        'salary' : 30000\n",
    "    },\n",
    "    'emp003' : {\n",
    "        'name' : 'Tom',\n",
    "        'age' : 35,\n",
    "        'city' : 'Mumbai',\n",
    "        'salary' : 35000\n",
    "    }\n",
    "}\n",
    "print(company)"
   ]
  },
  {
   "cell_type": "code",
   "execution_count": 20,
   "metadata": {},
   "outputs": [],
   "source": [
    "from pprint import pprint"
   ]
  },
  {
   "cell_type": "code",
   "execution_count": 21,
   "metadata": {},
   "outputs": [
    {
     "name": "stdout",
     "output_type": "stream",
     "text": [
      "{'emp001': {'age': 25, 'city': 'Lucknow', 'name': 'John', 'salary': 25000},\n",
      " 'emp002': {'age': 30, 'city': 'Delhi', 'name': 'Sam', 'salary': 30000},\n",
      " 'emp003': {'age': 35, 'city': 'Mumbai', 'name': 'Tom', 'salary': 35000}}\n"
     ]
    }
   ],
   "source": [
    "pprint(company)"
   ]
  },
  {
   "cell_type": "code",
   "execution_count": 26,
   "metadata": {},
   "outputs": [
    {
     "data": {
      "text/plain": [
       "'John'"
      ]
     },
     "execution_count": 26,
     "metadata": {},
     "output_type": "execute_result"
    }
   ],
   "source": [
    "company['emp001']['name']"
   ]
  },
  {
   "cell_type": "code",
   "execution_count": null,
   "metadata": {},
   "outputs": [],
   "source": []
  }
 ],
 "metadata": {
  "kernelspec": {
   "display_name": "base",
   "language": "python",
   "name": "python3"
  },
  "language_info": {
   "codemirror_mode": {
    "name": "ipython",
    "version": 3
   },
   "file_extension": ".py",
   "mimetype": "text/x-python",
   "name": "python",
   "nbconvert_exporter": "python",
   "pygments_lexer": "ipython3",
   "version": "3.12.3"
  }
 },
 "nbformat": 4,
 "nbformat_minor": 2
}
