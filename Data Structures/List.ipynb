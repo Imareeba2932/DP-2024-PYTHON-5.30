{
 "cells": [
  {
   "cell_type": "code",
   "execution_count": 1,
   "metadata": {},
   "outputs": [
    {
     "name": "stdout",
     "output_type": "stream",
     "text": [
      "['drive', 'maps', 'swiggy', 'zomato', 'facebook', 'watsap', 'google', 'blinkit', 'gallery']\n"
     ]
    }
   ],
   "source": [
    "apps = [\"drive\",\"maps\",\"swiggy\",\"zomato\",\"facebook\",\"watsap\",\"google\",\"blinkit\",\"gallery\"]\n",
    "print(apps)"
   ]
  },
  {
   "cell_type": "markdown",
   "metadata": {},
   "source": [
    "Indexing"
   ]
  },
  {
   "cell_type": "code",
   "execution_count": 2,
   "metadata": {},
   "outputs": [
    {
     "name": "stdout",
     "output_type": "stream",
     "text": [
      "zomato\n",
      "google\n"
     ]
    }
   ],
   "source": [
    "print(apps[3])\n",
    "print(apps[6])"
   ]
  },
  {
   "cell_type": "markdown",
   "metadata": {},
   "source": [
    "Slicing"
   ]
  },
  {
   "cell_type": "code",
   "execution_count": 3,
   "metadata": {},
   "outputs": [
    {
     "name": "stdout",
     "output_type": "stream",
     "text": [
      "['maps', 'swiggy', 'zomato', 'facebook', 'watsap']\n",
      "['maps', 'zomato', 'watsap', 'blinkit']\n",
      "['watsap', 'google', 'blinkit', 'gallery']\n",
      "['drive', 'maps', 'swiggy', 'zomato', 'facebook', 'watsap', 'google']\n",
      "['drive', 'swiggy', 'facebook', 'google', 'gallery']\n",
      "['drive', 'maps', 'swiggy', 'zomato', 'facebook', 'watsap', 'google', 'blinkit', 'gallery']\n"
     ]
    }
   ],
   "source": [
    "print(apps[1:6])\n",
    "print(apps[1:10:2])\n",
    "print(apps[5:])\n",
    "print(apps[:7])\n",
    "print(apps[::2])\n",
    "print(apps[:])"
   ]
  },
  {
   "cell_type": "markdown",
   "metadata": {},
   "source": [
    "Methods to access the elements of the list\n",
    "- append - to add elements at the end of the list\n",
    "- insert - to add elements at specific position\n",
    "- pop - to delete element using index position\n",
    "- remove - to delete element using element's name\n",
    "- sort - to sort the list in some order\n",
    "- copy - to create a copy of the whole list\n",
    "- extend - to combine two list"
   ]
  },
  {
   "cell_type": "code",
   "execution_count": 4,
   "metadata": {},
   "outputs": [
    {
     "name": "stdout",
     "output_type": "stream",
     "text": [
      "['drive', 'maps', 'swiggy', 'zomato', 'facebook', 'watsap', 'google', 'blinkit', 'gallery']\n"
     ]
    }
   ],
   "source": [
    "print(apps)"
   ]
  },
  {
   "cell_type": "code",
   "execution_count": 5,
   "metadata": {},
   "outputs": [
    {
     "name": "stdout",
     "output_type": "stream",
     "text": [
      "['drive', 'maps', 'swiggy', 'zomato', 'facebook', 'watsap', 'google', 'blinkit', 'gallery', 'instagram']\n"
     ]
    }
   ],
   "source": [
    "apps.append(\"instagram\")\n",
    "print(apps)"
   ]
  },
  {
   "cell_type": "code",
   "execution_count": 6,
   "metadata": {},
   "outputs": [
    {
     "name": "stdout",
     "output_type": "stream",
     "text": [
      "['drive', 'maps', 'swiggy', 'snapchat', 'zomato', 'facebook', 'watsap', 'google', 'blinkit', 'gallery', 'instagram']\n"
     ]
    }
   ],
   "source": [
    "apps.insert(3,\"snapchat\")\n",
    "print(apps)"
   ]
  },
  {
   "cell_type": "code",
   "execution_count": 7,
   "metadata": {},
   "outputs": [
    {
     "name": "stdout",
     "output_type": "stream",
     "text": [
      "['drive', 'swiggy', 'snapchat', 'zomato', 'facebook', 'watsap', 'google', 'blinkit', 'gallery', 'instagram']\n"
     ]
    }
   ],
   "source": [
    "apps.pop(1)\n",
    "print(apps)"
   ]
  },
  {
   "cell_type": "code",
   "execution_count": 8,
   "metadata": {},
   "outputs": [
    {
     "name": "stdout",
     "output_type": "stream",
     "text": [
      "['drive', 'swiggy', 'snapchat', 'zomato', 'facebook', 'watsap', 'google', 'gallery', 'instagram']\n"
     ]
    }
   ],
   "source": [
    "apps.remove(\"blinkit\")\n",
    "print(apps)"
   ]
  },
  {
   "cell_type": "code",
   "execution_count": 11,
   "metadata": {},
   "outputs": [
    {
     "name": "stdout",
     "output_type": "stream",
     "text": [
      "['drive', 'facebook', 'gallery', 'google', 'instagram', 'snapchat', 'swiggy', 'watsap', 'zomato']\n"
     ]
    }
   ],
   "source": [
    "apps.sort()\n",
    "print(apps)"
   ]
  },
  {
   "cell_type": "code",
   "execution_count": null,
   "metadata": {},
   "outputs": [
    {
     "name": "stdout",
     "output_type": "stream",
     "text": [
      "['drive', 'facebook', 'gallery', 'google', 'instagram', 'snapchat', 'swiggy', 'watsap', 'zomato']\n"
     ]
    }
   ],
   "source": [
    "copy = apps.copy()\n",
    "print(copy)"
   ]
  },
  {
   "cell_type": "code",
   "execution_count": 13,
   "metadata": {},
   "outputs": [
    {
     "name": "stdout",
     "output_type": "stream",
     "text": [
      "['drive', 'facebook', 'gallery', 'google', 'instagram', 'snapchat', 'swiggy', 'watsap', 'zomato', 'drive', 'facebook', 'gallery', 'google', 'instagram', 'snapchat', 'swiggy', 'watsap', 'zomato']\n"
     ]
    }
   ],
   "source": [
    "apps.extend(copy)\n",
    "print(apps)"
   ]
  },
  {
   "cell_type": "code",
   "execution_count": null,
   "metadata": {},
   "outputs": [
    {
     "name": "stdout",
     "output_type": "stream",
     "text": [
      "2\n",
      "4\n",
      "6\n",
      "8\n",
      "10\n"
     ]
    }
   ],
   "source": [
    "#Take a list and print all the even numbers from it\n",
    "numbers = [1,2,3,4,5,6,7,8,9,10]\n",
    "for i in numbers:\n",
    "    if i%2==0:\n",
    "        print(i)"
   ]
  },
  {
   "cell_type": "code",
   "execution_count": 19,
   "metadata": {},
   "outputs": [
    {
     "name": "stdout",
     "output_type": "stream",
     "text": [
      "55\n"
     ]
    }
   ],
   "source": [
    "#Take a list of numbers and print the sum of all the numbers in the list\n",
    "numbers = [1,2,3,4,5,6,7,8,9,10]\n",
    "sum = 0\n",
    "for i in numbers:\n",
    "    sum = sum + i\n",
    "print(sum)\n"
   ]
  },
  {
   "cell_type": "code",
   "execution_count": 20,
   "metadata": {},
   "outputs": [
    {
     "name": "stdout",
     "output_type": "stream",
     "text": [
      "1\n",
      "4\n",
      "9\n",
      "16\n",
      "25\n",
      "36\n",
      "49\n",
      "64\n",
      "81\n",
      "100\n"
     ]
    }
   ],
   "source": [
    "#Take a list of numbers and print the square of each number in the list\n",
    "numbers = [1,2,3,4,5,6,7,8,9,10]\n",
    "for i in numbers:\n",
    "    print(i**2)"
   ]
  },
  {
   "cell_type": "code",
   "execution_count": 21,
   "metadata": {},
   "outputs": [
    {
     "name": "stdout",
     "output_type": "stream",
     "text": [
      "[1, 4, 9, 16, 25, 36, 49, 64, 81, 100]\n"
     ]
    }
   ],
   "source": [
    "#Take a list of numbers and print the square of each number in the list in a new list\n",
    "numbers = [1,2,3,4,5,6,7,8,9,10]\n",
    "square = []\n",
    "for i in numbers:\n",
    "    square.append(i**2)\n",
    "print(square)"
   ]
  },
  {
   "cell_type": "markdown",
   "metadata": {},
   "source": [
    "LIST COMPREHENSION"
   ]
  },
  {
   "cell_type": "code",
   "execution_count": 23,
   "metadata": {},
   "outputs": [
    {
     "name": "stdout",
     "output_type": "stream",
     "text": [
      "[2, 4, 6, 8, 10]\n"
     ]
    }
   ],
   "source": [
    "numbers = [1,2,3,4,5,6,7,8,9,10]\n",
    "even = [i for i in numbers if i%2==0]\n",
    "print(even)"
   ]
  },
  {
   "cell_type": "code",
   "execution_count": 24,
   "metadata": {},
   "outputs": [
    {
     "name": "stdout",
     "output_type": "stream",
     "text": [
      "[1, 8, 27, 64, 125, 216, 343, 512, 729, 1000]\n"
     ]
    }
   ],
   "source": [
    "cube = [i**3 for i in numbers]\n",
    "print(cube)"
   ]
  },
  {
   "cell_type": "code",
   "execution_count": null,
   "metadata": {},
   "outputs": [],
   "source": []
  }
 ],
 "metadata": {
  "kernelspec": {
   "display_name": "base",
   "language": "python",
   "name": "python3"
  },
  "language_info": {
   "codemirror_mode": {
    "name": "ipython",
    "version": 3
   },
   "file_extension": ".py",
   "mimetype": "text/x-python",
   "name": "python",
   "nbconvert_exporter": "python",
   "pygments_lexer": "ipython3",
   "version": "3.12.3"
  }
 },
 "nbformat": 4,
 "nbformat_minor": 2
}
