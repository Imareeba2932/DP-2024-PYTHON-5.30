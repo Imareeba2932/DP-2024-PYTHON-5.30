{
 "cells": [
  {
   "cell_type": "code",
   "execution_count": 15,
   "metadata": {},
   "outputs": [],
   "source": [
    "from sqlalchemy import create_engine, Column, Integer, String\n",
    "from sqlalchemy.orm import declarative_base, sessionmaker"
   ]
  },
  {
   "cell_type": "markdown",
   "metadata": {},
   "source": [
    "- create_engine : it is used to make connection from the database\n",
    "- column : it defines columns in database\n",
    "- Integer and String : datatype of values in database"
   ]
  },
  {
   "cell_type": "code",
   "execution_count": 16,
   "metadata": {},
   "outputs": [],
   "source": [
    "engine = create_engine('sqlite:///user.db')"
   ]
  },
  {
   "cell_type": "code",
   "execution_count": 17,
   "metadata": {},
   "outputs": [],
   "source": [
    "Base = declarative_base()"
   ]
  },
  {
   "cell_type": "code",
   "execution_count": 18,
   "metadata": {},
   "outputs": [],
   "source": [
    "class User(Base):\n",
    "    __tablename__ = 'users'\n",
    "    id = Column(Integer, primary_key=True)\n",
    "    name = Column(String)\n",
    "    password = Column(String)"
   ]
  },
  {
   "cell_type": "code",
   "execution_count": 19,
   "metadata": {},
   "outputs": [],
   "source": [
    "Base.metadata.create_all(engine)"
   ]
  },
  {
   "cell_type": "code",
   "execution_count": 20,
   "metadata": {},
   "outputs": [],
   "source": [
    "Session = sessionmaker(bind=engine)\n",
    "session = Session()"
   ]
  },
  {
   "cell_type": "code",
   "execution_count": 21,
   "metadata": {},
   "outputs": [],
   "source": [
    "#add a new user\n",
    "new_user = User(name='Bob', password='12345')\n",
    "session.add(new_user)\n",
    "session.commit()"
   ]
  },
  {
   "cell_type": "code",
   "execution_count": 22,
   "metadata": {},
   "outputs": [],
   "source": [
    "#add a new user\n",
    "new_user = User(name='Alice', password='2736')\n",
    "session.add(new_user)\n",
    "session.commit()"
   ]
  },
  {
   "cell_type": "code",
   "execution_count": 24,
   "metadata": {},
   "outputs": [
    {
     "name": "stdout",
     "output_type": "stream",
     "text": [
      "ID: 1, Name: John, Password: 1234\n",
      "ID: 2, Name: Sara, Password: 5678\n",
      "ID: 3, Name: John, Password: 1234\n",
      "ID: 4, Name: Sara, Password: 5678\n",
      "ID: 5, Name: Bob, Password: 12345\n",
      "ID: 6, Name: Bob, Password: 12345\n",
      "ID: 7, Name: Alice, Password: 2736\n"
     ]
    }
   ],
   "source": [
    "#retrieve all users\n",
    "users = session.query(User).all()\n",
    "for user in users:\n",
    "    print(f'ID: {user.id}, Name: {user.name}, Password: {user.password}')"
   ]
  },
  {
   "cell_type": "code",
   "execution_count": 25,
   "metadata": {},
   "outputs": [],
   "source": [
    "#update a user\n",
    "user = session.query(User).filter_by(id=1).first()\n",
    "user.name = 'Bob Smith'\n",
    "session.commit()"
   ]
  },
  {
   "cell_type": "code",
   "execution_count": 26,
   "metadata": {},
   "outputs": [
    {
     "name": "stdout",
     "output_type": "stream",
     "text": [
      "ID: 1, Name: Bob Smith, Password: 1234\n",
      "ID: 2, Name: Sara, Password: 5678\n",
      "ID: 3, Name: John, Password: 1234\n",
      "ID: 4, Name: Sara, Password: 5678\n",
      "ID: 5, Name: Bob, Password: 12345\n",
      "ID: 6, Name: Bob, Password: 12345\n",
      "ID: 7, Name: Alice, Password: 2736\n"
     ]
    }
   ],
   "source": [
    "#retrieve all users\n",
    "users = session.query(User).all()\n",
    "for user in users:\n",
    "    print(f'ID: {user.id}, Name: {user.name}, Password: {user.password}')"
   ]
  },
  {
   "cell_type": "code",
   "execution_count": null,
   "metadata": {},
   "outputs": [],
   "source": []
  }
 ],
 "metadata": {
  "kernelspec": {
   "display_name": "base",
   "language": "python",
   "name": "python3"
  },
  "language_info": {
   "codemirror_mode": {
    "name": "ipython",
    "version": 3
   },
   "file_extension": ".py",
   "mimetype": "text/x-python",
   "name": "python",
   "nbconvert_exporter": "python",
   "pygments_lexer": "ipython3",
   "version": "3.12.3"
  }
 },
 "nbformat": 4,
 "nbformat_minor": 2
}
