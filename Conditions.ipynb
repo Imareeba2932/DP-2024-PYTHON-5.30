{
 "cells": [
  {
   "cell_type": "code",
   "execution_count": null,
   "metadata": {},
   "outputs": [
    {
     "name": "stdout",
     "output_type": "stream",
     "text": [
      "A\n",
      "B\n"
     ]
    }
   ],
   "source": [
    "marks = 75\n",
    "if marks >= 90:\n",
    "    print(\"A+\")\n",
    "if marks >= 70:\n",
    "    print(\"A\")\n",
    "if marks >= 50:\n",
    "    print(\"B\")\n",
    "if marks < 50:\n",
    "    print(\"Fail\")"
   ]
  },
  {
   "cell_type": "code",
   "execution_count": 2,
   "metadata": {},
   "outputs": [
    {
     "name": "stdout",
     "output_type": "stream",
     "text": [
      "A\n"
     ]
    }
   ],
   "source": [
    "marks = 75\n",
    "if marks >= 90:\n",
    "    print(\"A+\")\n",
    "elif marks >= 70:\n",
    "    print(\"A\")\n",
    "elif marks >= 50:\n",
    "    print(\"B\")\n",
    "elif marks < 50:\n",
    "    print(\"Fail\")\n",
    "else:\n",
    "    print(\"Invalid marks\")"
   ]
  },
  {
   "cell_type": "code",
   "execution_count": 3,
   "metadata": {},
   "outputs": [
    {
     "name": "stdout",
     "output_type": "stream",
     "text": [
      "Person is eligible to vote\n"
     ]
    }
   ],
   "source": [
    "age = 34\n",
    "if age >= 18:\n",
    "    print(\"Person is eligible to vote\")\n",
    "else:\n",
    "    print(\"Person is not eligible to vote\")"
   ]
  },
  {
   "cell_type": "markdown",
   "metadata": {},
   "source": [
    "- check whether a number is positive or negative\n",
    "- check whther a number is even or odd\n",
    "- check whether a a triangle is equilateral or iscoceles\n",
    "- take a list of 10 apps and check whether \"zomato\" is in the list or not\n",
    "- enter a character by user and check whether it is a vowel or not\n",
    "- check whether two sides entered by user are equal or not"
   ]
  },
  {
   "cell_type": "code",
   "execution_count": 1,
   "metadata": {},
   "outputs": [
    {
     "data": {
      "text/plain": [
       "True"
      ]
     },
     "execution_count": 1,
     "metadata": {},
     "output_type": "execute_result"
    }
   ],
   "source": [
    "apps = ['drive','facebook','insta','zomato','swiggy']\n",
    "'zomato' in apps"
   ]
  },
  {
   "cell_type": "code",
   "execution_count": 2,
   "metadata": {},
   "outputs": [
    {
     "name": "stdout",
     "output_type": "stream",
     "text": [
      "Isosceles triangle\n"
     ]
    }
   ],
   "source": [
    "a = 10\n",
    "b = 20\n",
    "c = 10\n",
    "if a==b==c:\n",
    "    print(\"Equilateral triangle\")\n",
    "elif a==b or b==c or c==a:\n",
    "    print(\"Isosceles triangle\")\n",
    "else:\n",
    "    print(\"Scalene triangle\")"
   ]
  },
  {
   "cell_type": "markdown",
   "metadata": {},
   "source": [
    "Nested If"
   ]
  },
  {
   "cell_type": "code",
   "execution_count": 4,
   "metadata": {},
   "outputs": [
    {
     "name": "stdout",
     "output_type": "stream",
     "text": [
      "Invalid username🤦‍♀️🤦‍♀️🤦‍♀️😭\n"
     ]
    }
   ],
   "source": [
    "username = input(\"Enter username: \")\n",
    "email = input(\"Enter email: \")\n",
    "password = input(\"Enter password: \")\n",
    "cpass = input(\"Enter confirm password: \")\n",
    "if len(username)>=10 and len(username)<=20:\n",
    "    if '@' in email and len(email)>=10 and len(email)<=50:\n",
    "        if password == cpass:\n",
    "            print(\"Registration successfull🎊🤩\")\n",
    "        else:\n",
    "            print(\"Password and confirm password should be same😫😫\")\n",
    "    else:\n",
    "        print(\"Invalid email😭😭\")\n",
    "else:\n",
    "    print(\"Invalid username🤦‍♀️🤦‍♀️🤦‍♀️😭\")\n"
   ]
  },
  {
   "cell_type": "code",
   "execution_count": null,
   "metadata": {},
   "outputs": [],
   "source": []
  }
 ],
 "metadata": {
  "kernelspec": {
   "display_name": "base",
   "language": "python",
   "name": "python3"
  },
  "language_info": {
   "codemirror_mode": {
    "name": "ipython",
    "version": 3
   },
   "file_extension": ".py",
   "mimetype": "text/x-python",
   "name": "python",
   "nbconvert_exporter": "python",
   "pygments_lexer": "ipython3",
   "version": "3.12.3"
  }
 },
 "nbformat": 4,
 "nbformat_minor": 2
}
